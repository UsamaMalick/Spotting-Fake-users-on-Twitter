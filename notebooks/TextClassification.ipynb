{
 "cells": [
  {
   "cell_type": "code",
   "execution_count": 9,
   "metadata": {},
   "outputs": [],
   "source": [
    "import numpy as np\n",
    "\n",
    "import tensorflow_datasets as tfds\n",
    "import tensorflow as tf\n",
    "\n",
    "tfds.disable_progress_bar()"
   ]
  },
  {
   "cell_type": "code",
   "execution_count": null,
   "metadata": {},
   "outputs": [],
   "source": [
    "import sys\n",
    "!{sys.executable} -m pip install tensorflow"
   ]
  },
  {
   "cell_type": "code",
   "execution_count": 10,
   "metadata": {},
   "outputs": [],
   "source": [
    "import matplotlib.pyplot as plt\n",
    "\n",
    "\n",
    "def plot_graphs(history, metric):\n",
    "    plt.plot(history.history[metric])\n",
    "    plt.plot(history.history['val_'+metric], '')\n",
    "    plt.xlabel(\"Epochs\")\n",
    "    plt.ylabel(metric)\n",
    "    plt.legend([metric, 'val_'+metric])"
   ]
  },
  {
   "cell_type": "code",
   "execution_count": 11,
   "metadata": {},
   "outputs": [
    {
     "data": {
      "text/plain": [
       "(TensorSpec(shape=(), dtype=tf.string, name=None),\n",
       " TensorSpec(shape=(), dtype=tf.int64, name=None))"
      ]
     },
     "execution_count": 11,
     "metadata": {},
     "output_type": "execute_result"
    }
   ],
   "source": [
    "dataset, info = tfds.load('imdb_reviews', with_info=True,\n",
    "                          as_supervised=True)\n",
    "train_dataset, test_dataset = dataset['train'], dataset['test']\n",
    "\n",
    "train_dataset.element_spec"
   ]
  },
  {
   "cell_type": "code",
   "execution_count": 12,
   "metadata": {},
   "outputs": [
    {
     "name": "stdout",
     "output_type": "stream",
     "text": [
      "text:  b\"This was an absolutely terrible movie. Don't be lured in by Christopher Walken or Michael Ironside. Both are great actors, but this must simply be their worst role in history. Even their great acting could not redeem this movie's ridiculous storyline. This movie is an early nineties US propaganda piece. The most pathetic scenes were those when the Columbian rebels were making their cases for revolutions. Maria Conchita Alonso appeared phony, and her pseudo-love affair with Walken was nothing but a pathetic emotional plug in a movie that was devoid of any real meaning. I am disappointed that there are movies like this, ruining actor's like Christopher Walken's good name. I could barely sit through it.\"\n",
      "label:  0\n"
     ]
    }
   ],
   "source": [
    "for example, label in train_dataset.take(1):\n",
    "    print('text: ', example.numpy())\n",
    "    print('label: ', label.numpy())"
   ]
  },
  {
   "cell_type": "code",
   "execution_count": 13,
   "metadata": {},
   "outputs": [],
   "source": [
    "BUFFER_SIZE = 10000\n",
    "BATCH_SIZE = 64"
   ]
  },
  {
   "cell_type": "code",
   "execution_count": 14,
   "metadata": {},
   "outputs": [],
   "source": [
    "train_dataset = train_dataset.shuffle(BUFFER_SIZE).batch(BATCH_SIZE).prefetch(tf.data.AUTOTUNE)\n",
    "test_dataset = test_dataset.batch(BATCH_SIZE).prefetch(tf.data.AUTOTUNE)"
   ]
  },
  {
   "cell_type": "code",
   "execution_count": 15,
   "metadata": {},
   "outputs": [
    {
     "name": "stdout",
     "output_type": "stream",
     "text": [
      "texts:  [b'This movie is extremely boring, it tells a story of a female gas station owner and her life. Nothing exciting ever happens. The director has really \"kept it real\" and it feels just like a camera following a woman around as she lives her life. I had to watch other films by this director for a class, the others were not as boring. This film was also watched for an assignment...it better be worth the boringness with a good grade!! Overall, unless it\\'s required, don\\'t watch the film. But don\\'t discount other films by this director, because they\\'re not as bad...and don\\'t discount other films about Africa, they\\'re usually good, especially when done by a western director.'\n",
      " b\"Man I must say when I saw the trailer I was excited. Futuristic soldiers, taking on bad ass Vampires led by genre vet Michael Ironside....In Space. I mean I wasn't expecting high art, but It looked like a potential B movie classic. This was no doubt a TV pilot, reedited some time later into a feature film, after it wasn't picked up. Alright I'll start with the films few good points, the action was competent for a lower budgeted film, and the CGI and locations used were passable. Now onto the bad, first off Michael Ironside was barley in this, and his performance here....well it was cheesy not in a good way. But as I said he wasn't in it much anyways, so I can't blame him. One thing that was really stupid, was the PETA type group for Vampires', no I'm not joking, it's the dumbest most unbelievable thing I've seen in along time, and it's taken seriously. Also this film commits one of the major B movie sins, it teases a lesbian scene, and doesn't deliver. Most of all what sinks this film is nothing really happens. Since it was meant to be a pilot the script is almost nonexistent and it doesn't have a regular ending. Even the main villains, only come in towards the end. If ever a movie needed to up the Sleaze and gore factor, it's Vampire Wars. In closing I will say the main crew on the spaceship, were all very capable actors and could very well put this mess behind them, and go on to bigger and better things. They just had nothing to work with here.\"\n",
      " b\"Centered in the downtown and out skirts of Detroit, this comedy I found to be a terrific new comedic duo. 'Noriyuki Pat Morita' is a very funny man, who happens to be a cop from Japan on the trail of an industrial secrets thief, who has stolen a 'proto type' turbo super charger, reluctantly he goes to the United States to follow the thief, after being ordered by his commander. Pat's character collides with 'Jay Leno's' character, a fast talking' but down to business-player type Detroit cop. When they cross paths though, the honorable 'Ways' of Japan meet the all-out old school Detroit police investigative 'Ways'. The two stumble and trip over each other at first, but then develop a 'rythym' that turns into an explosive two layered powerhouse team, that solves the case, cold. After battling a city crime boss for the stolen 'equiptment' and closing the case, these two go from despising each other to being friends and working well together. A little worse for wear and in need of an extended-vacation on top of it all, they manage to come to a victorious closing. I rated this a 9. Lewis's direction makes' this a near perfect comedy. Fun for all ages. I recommend it highly.(***)\"]\n",
      "\n",
      "\n",
      "labels:  [0 0 1]\n"
     ]
    }
   ],
   "source": [
    "for example, label in train_dataset.take(1):\n",
    "    print('texts: ', example.numpy()[:3])\n",
    "    print(\"\\n\")\n",
    "    print('labels: ', label.numpy()[:3])"
   ]
  },
  {
   "cell_type": "code",
   "execution_count": 16,
   "metadata": {},
   "outputs": [],
   "source": [
    "VOCAB_SIZE = 1000\n",
    "encoder = tf.keras.layers.experimental.preprocessing.TextVectorization(\n",
    "    max_tokens=VOCAB_SIZE)\n",
    "encoder.adapt(train_dataset.map(lambda text, label: text))"
   ]
  },
  {
   "cell_type": "code",
   "execution_count": 17,
   "metadata": {},
   "outputs": [
    {
     "data": {
      "text/plain": [
       "array(['', '[UNK]', 'the', 'and', 'a', 'of', 'to', 'is', 'in', 'it', 'i',\n",
       "       'this', 'that', 'br', 'was', 'as', 'for', 'with', 'movie', 'but'],\n",
       "      dtype='<U14')"
      ]
     },
     "execution_count": 17,
     "metadata": {},
     "output_type": "execute_result"
    }
   ],
   "source": [
    "vocab = np.array(encoder.get_vocabulary())\n",
    "vocab[:20]"
   ]
  },
  {
   "cell_type": "code",
   "execution_count": 18,
   "metadata": {},
   "outputs": [
    {
     "data": {
      "text/plain": [
       "array([[ 11,  18,   7, ...,   0,   0,   0],\n",
       "       [133,  10, 217, ...,   0,   0,   0],\n",
       "       [  1,   8,   2, ...,   0,   0,   0]])"
      ]
     },
     "execution_count": 18,
     "metadata": {},
     "output_type": "execute_result"
    }
   ],
   "source": [
    "encoded_example = encoder(example)[:3].numpy()\n",
    "encoded_example"
   ]
  },
  {
   "cell_type": "code",
   "execution_count": 20,
   "metadata": {},
   "outputs": [
    {
     "name": "stdout",
     "output_type": "stream",
     "text": [
      "Original:  b'This movie is extremely boring, it tells a story of a female gas station owner and her life. Nothing exciting ever happens. The director has really \"kept it real\" and it feels just like a camera following a woman around as she lives her life. I had to watch other films by this director for a class, the others were not as boring. This film was also watched for an assignment...it better be worth the boringness with a good grade!! Overall, unless it\\'s required, don\\'t watch the film. But don\\'t discount other films by this director, because they\\'re not as bad...and don\\'t discount other films about Africa, they\\'re usually good, especially when done by a western director.'\n",
      "Round-trip:  this movie is extremely boring it tells a story of a female [UNK] [UNK] [UNK] and her life nothing [UNK] ever happens the director has really kept it real and it feels just like a camera [UNK] a woman around as she lives her life i had to watch other films by this director for a class the others were not as boring this film was also watched for an [UNK] better be worth the [UNK] with a good [UNK] overall unless its [UNK] dont watch the film but dont [UNK] other films by this director because theyre not as [UNK] dont [UNK] other films about [UNK] theyre usually good especially when done by a [UNK] director                                                                                                                                                                                                                                                                                                                                                                                                                                                                                                                                                                                                                                                                                                            \n",
      "\n",
      "Original:  b\"Man I must say when I saw the trailer I was excited. Futuristic soldiers, taking on bad ass Vampires led by genre vet Michael Ironside....In Space. I mean I wasn't expecting high art, but It looked like a potential B movie classic. This was no doubt a TV pilot, reedited some time later into a feature film, after it wasn't picked up. Alright I'll start with the films few good points, the action was competent for a lower budgeted film, and the CGI and locations used were passable. Now onto the bad, first off Michael Ironside was barley in this, and his performance here....well it was cheesy not in a good way. But as I said he wasn't in it much anyways, so I can't blame him. One thing that was really stupid, was the PETA type group for Vampires', no I'm not joking, it's the dumbest most unbelievable thing I've seen in along time, and it's taken seriously. Also this film commits one of the major B movie sins, it teases a lesbian scene, and doesn't deliver. Most of all what sinks this film is nothing really happens. Since it was meant to be a pilot the script is almost nonexistent and it doesn't have a regular ending. Even the main villains, only come in towards the end. If ever a movie needed to up the Sleaze and gore factor, it's Vampire Wars. In closing I will say the main crew on the spaceship, were all very capable actors and could very well put this mess behind them, and go on to bigger and better things. They just had nothing to work with here.\"\n",
      "Round-trip:  man i must say when i saw the [UNK] i was [UNK] [UNK] [UNK] taking on bad [UNK] [UNK] [UNK] by genre [UNK] michael [UNK] space i mean i wasnt expecting high art but it looked like a potential b movie classic this was no doubt a tv [UNK] [UNK] some time later into a feature film after it wasnt [UNK] up [UNK] ill start with the films few good points the action was [UNK] for a [UNK] [UNK] film and the [UNK] and [UNK] used were [UNK] now [UNK] the bad first off michael [UNK] was [UNK] in this and his performance [UNK] it was cheesy not in a good way but as i said he wasnt in it much [UNK] so i cant [UNK] him one thing that was really stupid was the [UNK] type group for [UNK] no im not [UNK] its the [UNK] most [UNK] thing ive seen in along time and its taken seriously also this film [UNK] one of the major b movie [UNK] it [UNK] a [UNK] scene and doesnt [UNK] most of all what [UNK] this film is nothing really happens since it was meant to be a [UNK] the script is almost [UNK] and it doesnt have a [UNK] ending even the main [UNK] only come in towards the end if ever a movie needed to up the [UNK] and gore [UNK] its [UNK] [UNK] in [UNK] i will say the main [UNK] on the [UNK] were all very [UNK] actors and could very well put this mess behind them and go on to [UNK] and better things they just had nothing to work with here                                                                                                                                                                                                                                                                                                                                                                                                                                                                                                                                              \n",
      "\n",
      "Original:  b\"Centered in the downtown and out skirts of Detroit, this comedy I found to be a terrific new comedic duo. 'Noriyuki Pat Morita' is a very funny man, who happens to be a cop from Japan on the trail of an industrial secrets thief, who has stolen a 'proto type' turbo super charger, reluctantly he goes to the United States to follow the thief, after being ordered by his commander. Pat's character collides with 'Jay Leno's' character, a fast talking' but down to business-player type Detroit cop. When they cross paths though, the honorable 'Ways' of Japan meet the all-out old school Detroit police investigative 'Ways'. The two stumble and trip over each other at first, but then develop a 'rythym' that turns into an explosive two layered powerhouse team, that solves the case, cold. After battling a city crime boss for the stolen 'equiptment' and closing the case, these two go from despising each other to being friends and working well together. A little worse for wear and in need of an extended-vacation on top of it all, they manage to come to a victorious closing. I rated this a 9. Lewis's direction makes' this a near perfect comedy. Fun for all ages. I recommend it highly.(***)\"\n",
      "Round-trip:  [UNK] in the [UNK] and out [UNK] of [UNK] this comedy i found to be a [UNK] new [UNK] [UNK] [UNK] [UNK] [UNK] is a very funny man who happens to be a [UNK] from [UNK] on the [UNK] of an [UNK] [UNK] [UNK] who has [UNK] a [UNK] type [UNK] [UNK] [UNK] [UNK] he goes to the [UNK] [UNK] to follow the [UNK] after being [UNK] by his [UNK] [UNK] character [UNK] with [UNK] [UNK] character a fast talking but down to [UNK] type [UNK] [UNK] when they [UNK] [UNK] though the [UNK] ways of [UNK] meet the [UNK] old school [UNK] police [UNK] ways the two [UNK] and [UNK] over each other at first but then [UNK] a [UNK] that turns into an [UNK] two [UNK] [UNK] team that [UNK] the case [UNK] after [UNK] a city crime [UNK] for the [UNK] [UNK] and [UNK] the case these two go from [UNK] each other to being friends and working well together a little worse for [UNK] and in need of an [UNK] on top of it all they [UNK] to come to a [UNK] [UNK] i [UNK] this a [UNK] [UNK] direction makes this a near perfect comedy fun for all [UNK] i recommend it highly                                                                                                                                                                                                                                                                                                                                                                                                                                                                                                                                                                                                                 \n",
      "\n"
     ]
    }
   ],
   "source": [
    "for n in range(3):\n",
    "    print(\"Original: \", example[n].numpy())\n",
    "    print(\"Round-trip: \", \" \".join(vocab[encoded_example[n]]))\n",
    "    print()"
   ]
  },
  {
   "cell_type": "code",
   "execution_count": 21,
   "metadata": {},
   "outputs": [],
   "source": [
    "model = tf.keras.Sequential([\n",
    "    encoder,\n",
    "    tf.keras.layers.Embedding(\n",
    "        input_dim=len(encoder.get_vocabulary()),\n",
    "        output_dim=64,\n",
    "        # Use masking to handle the variable sequence lengths\n",
    "        mask_zero=True),\n",
    "    tf.keras.layers.Bidirectional(tf.keras.layers.LSTM(64)),\n",
    "    tf.keras.layers.Dense(64, activation='relu'),\n",
    "    tf.keras.layers.Dense(1)\n",
    "])"
   ]
  },
  {
   "cell_type": "code",
   "execution_count": 22,
   "metadata": {},
   "outputs": [
    {
     "name": "stdout",
     "output_type": "stream",
     "text": [
      "[False, True, True, True, True]\n"
     ]
    }
   ],
   "source": [
    "print([layer.supports_masking for layer in model.layers])"
   ]
  },
  {
   "cell_type": "code",
   "execution_count": 23,
   "metadata": {},
   "outputs": [
    {
     "name": "stdout",
     "output_type": "stream",
     "text": [
      "[0.00989718]\n"
     ]
    }
   ],
   "source": [
    "# predict on a sample text without padding.\n",
    "\n",
    "sample_text = ('The movie was cool. The animation and the graphics '\n",
    "               'were out of this world. I would recommend this movie.')\n",
    "predictions = model.predict(np.array([sample_text]))\n",
    "print(predictions[0])"
   ]
  },
  {
   "cell_type": "code",
   "execution_count": 24,
   "metadata": {},
   "outputs": [
    {
     "name": "stdout",
     "output_type": "stream",
     "text": [
      "[0.00989717]\n"
     ]
    }
   ],
   "source": [
    "# predict on a sample text with padding\n",
    "\n",
    "padding = \"the \" * 2000\n",
    "predictions = model.predict(np.array([sample_text, padding]))\n",
    "print(predictions[0])"
   ]
  },
  {
   "cell_type": "code",
   "execution_count": 25,
   "metadata": {},
   "outputs": [],
   "source": [
    "model.compile(loss=tf.keras.losses.BinaryCrossentropy(from_logits=True),\n",
    "              optimizer=tf.keras.optimizers.Adam(1e-4),\n",
    "              metrics=['accuracy'])"
   ]
  },
  {
   "cell_type": "code",
   "execution_count": 26,
   "metadata": {},
   "outputs": [
    {
     "name": "stdout",
     "output_type": "stream",
     "text": [
      "Epoch 1/10\n",
      "391/391 [==============================] - 309s 775ms/step - loss: 0.6826 - accuracy: 0.5134 - val_loss: 0.4928 - val_accuracy: 0.7333\n",
      "Epoch 2/10\n",
      "391/391 [==============================] - 338s 865ms/step - loss: 0.4620 - accuracy: 0.7850 - val_loss: 0.4009 - val_accuracy: 0.8234\n",
      "Epoch 3/10\n",
      "391/391 [==============================] - 319s 815ms/step - loss: 0.3801 - accuracy: 0.8313 - val_loss: 0.3650 - val_accuracy: 0.8370\n",
      "Epoch 4/10\n",
      "391/391 [==============================] - 321s 820ms/step - loss: 0.3389 - accuracy: 0.8524 - val_loss: 0.3405 - val_accuracy: 0.8526\n",
      "Epoch 5/10\n",
      "391/391 [==============================] - 333s 853ms/step - loss: 0.3154 - accuracy: 0.8673 - val_loss: 0.3399 - val_accuracy: 0.8562\n",
      "Epoch 6/10\n",
      "391/391 [==============================] - 322s 824ms/step - loss: 0.3121 - accuracy: 0.8719 - val_loss: 0.3247 - val_accuracy: 0.8557\n",
      "Epoch 7/10\n",
      "391/391 [==============================] - 329s 840ms/step - loss: 0.3028 - accuracy: 0.8756 - val_loss: 0.3238 - val_accuracy: 0.8510\n",
      "Epoch 8/10\n",
      "391/391 [==============================] - 319s 815ms/step - loss: 0.3072 - accuracy: 0.8711 - val_loss: 0.3202 - val_accuracy: 0.8552\n",
      "Epoch 9/10\n",
      "391/391 [==============================] - 340s 869ms/step - loss: 0.2981 - accuracy: 0.8758 - val_loss: 0.3212 - val_accuracy: 0.8594\n",
      "Epoch 10/10\n",
      "391/391 [==============================] - 320s 818ms/step - loss: 0.2957 - accuracy: 0.8745 - val_loss: 0.3199 - val_accuracy: 0.8557\n"
     ]
    }
   ],
   "source": [
    "history = model.fit(train_dataset, epochs=10,\n",
    "                    validation_data=test_dataset,\n",
    "                    validation_steps=30)"
   ]
  },
  {
   "cell_type": "code",
   "execution_count": 27,
   "metadata": {},
   "outputs": [
    {
     "name": "stdout",
     "output_type": "stream",
     "text": [
      "391/391 [==============================] - 80s 204ms/step - loss: 0.3161 - accuracy: 0.8559\n",
      "Test Loss: 0.31605952978134155\n",
      "Test Accuracy: 0.8559200167655945\n"
     ]
    }
   ],
   "source": [
    "test_loss, test_acc = model.evaluate(test_dataset)\n",
    "\n",
    "print('Test Loss:', test_loss)\n",
    "print('Test Accuracy:', test_acc)"
   ]
  },
  {
   "cell_type": "code",
   "execution_count": 28,
   "metadata": {},
   "outputs": [
    {
     "data": {
      "text/plain": [
       "(0.0, 0.6565322533249855)"
      ]
     },
     "execution_count": 28,
     "metadata": {},
     "output_type": "execute_result"
    },
    {
     "data": {
      "image/png": "[encoded data removed]",
      "text/plain": [
       "<Figure size 1152x576 with 2 Axes>"
      ]
     },
     "metadata": {
      "needs_background": "light"
     },
     "output_type": "display_data"
    }
   ],
   "source": [
    "plt.figure(figsize=(16, 8))\n",
    "plt.subplot(1, 2, 1)\n",
    "plot_graphs(history, 'accuracy')\n",
    "plt.ylim(None, 1)\n",
    "plt.subplot(1, 2, 2)\n",
    "plot_graphs(history, 'loss')\n",
    "plt.ylim(0, None)"
   ]
  },
  {
   "cell_type": "code",
   "execution_count": 29,
   "metadata": {},
   "outputs": [],
   "source": [
    "sample_text = ('The movie was cool. The animation and the graphics '\n",
    "               'were out of this world. I would recommend this movie.')\n",
    "predictions = model.predict(np.array([sample_text]))"
   ]
  },
  {
   "cell_type": "code",
   "execution_count": 30,
   "metadata": {},
   "outputs": [],
   "source": [
    "model = tf.keras.Sequential([\n",
    "    encoder,\n",
    "    tf.keras.layers.Embedding(len(encoder.get_vocabulary()), 64, mask_zero=True),\n",
    "    tf.keras.layers.Bidirectional(tf.keras.layers.LSTM(64,  return_sequences=True)),\n",
    "    tf.keras.layers.Bidirectional(tf.keras.layers.LSTM(32)),\n",
    "    tf.keras.layers.Dense(64, activation='relu'),\n",
    "    tf.keras.layers.Dropout(0.5),\n",
    "    tf.keras.layers.Dense(1)\n",
    "])"
   ]
  },
  {
   "cell_type": "code",
   "execution_count": 31,
   "metadata": {},
   "outputs": [],
   "source": [
    "model.compile(loss=tf.keras.losses.BinaryCrossentropy(from_logits=True),\n",
    "              optimizer=tf.keras.optimizers.Adam(1e-4),\n",
    "              metrics=['accuracy'])"
   ]
  },
  {
   "cell_type": "code",
   "execution_count": 32,
   "metadata": {},
   "outputs": [
    {
     "name": "stdout",
     "output_type": "stream",
     "text": [
      "Epoch 1/10\n",
      "391/391 [==============================] - 633s 2s/step - loss: 0.6796 - accuracy: 0.5154 - val_loss: 0.4307 - val_accuracy: 0.8115\n",
      "Epoch 2/10\n",
      "391/391 [==============================] - 5887s 15s/step - loss: 0.4054 - accuracy: 0.8152 - val_loss: 0.3440 - val_accuracy: 0.8432\n",
      "Epoch 3/10\n",
      "391/391 [==============================] - 598s 2s/step - loss: 0.3342 - accuracy: 0.8577 - val_loss: 0.3300 - val_accuracy: 0.8531\n",
      "Epoch 4/10\n",
      "391/391 [==============================] - 654s 2s/step - loss: 0.3210 - accuracy: 0.8626 - val_loss: 0.3227 - val_accuracy: 0.8479\n",
      "Epoch 5/10\n",
      "391/391 [==============================] - 3973s 10s/step - loss: 0.3139 - accuracy: 0.8651 - val_loss: 0.3189 - val_accuracy: 0.8536\n",
      "Epoch 6/10\n",
      "391/391 [==============================] - 4983s 13s/step - loss: 0.3060 - accuracy: 0.8720 - val_loss: 0.3190 - val_accuracy: 0.8573\n",
      "Epoch 7/10\n",
      "391/391 [==============================] - 569s 1s/step - loss: 0.3047 - accuracy: 0.8717 - val_loss: 0.3365 - val_accuracy: 0.8557\n",
      "Epoch 8/10\n",
      "391/391 [==============================] - 601s 2s/step - loss: 0.2979 - accuracy: 0.8743 - val_loss: 0.3200 - val_accuracy: 0.8599\n",
      "Epoch 9/10\n",
      "391/391 [==============================] - 637s 2s/step - loss: 0.2953 - accuracy: 0.8715 - val_loss: 0.3223 - val_accuracy: 0.8568\n",
      "Epoch 10/10\n",
      "391/391 [==============================] - 621s 2s/step - loss: 0.2969 - accuracy: 0.8746 - val_loss: 0.3214 - val_accuracy: 0.8630\n"
     ]
    }
   ],
   "source": [
    "history = model.fit(train_dataset, epochs=10,\n",
    "                    validation_data=test_dataset,\n",
    "                    validation_steps=30)"
   ]
  },
  {
   "cell_type": "code",
   "execution_count": 33,
   "metadata": {},
   "outputs": [
    {
     "name": "stdout",
     "output_type": "stream",
     "text": [
      "391/391 [==============================] - 155s 397ms/step - loss: 0.3178 - accuracy: 0.8624\n",
      "Test Loss: 0.31775912642478943\n",
      "Test Accuracy: 0.8624399900436401\n"
     ]
    }
   ],
   "source": [
    "test_loss, test_acc = model.evaluate(test_dataset)\n",
    "\n",
    "print('Test Loss:', test_loss)\n",
    "print('Test Accuracy:', test_acc)"
   ]
  },
  {
   "cell_type": "code",
   "execution_count": 34,
   "metadata": {},
   "outputs": [
    {
     "name": "stdout",
     "output_type": "stream",
     "text": [
      "[[-1.8081154]]\n"
     ]
    }
   ],
   "source": [
    "# predict on a sample text without padding.\n",
    "\n",
    "sample_text = ('The movie was not good. The animation and the graphics '\n",
    "               'were terrible. I would not recommend this movie.')\n",
    "predictions = model.predict(np.array([sample_text]))\n",
    "print(predictions)"
   ]
  },
  {
   "cell_type": "code",
   "execution_count": 35,
   "metadata": {},
   "outputs": [
    {
     "data": {
      "image/png": "[encoded data removed]",
      "text/plain": [
       "<Figure size 1152x432 with 2 Axes>"
      ]
     },
     "metadata": {
      "needs_background": "light"
     },
     "output_type": "display_data"
    }
   ],
   "source": [
    "plt.figure(figsize=(16, 6))\n",
    "plt.subplot(1, 2, 1)\n",
    "plot_graphs(history, 'accuracy')\n",
    "plt.subplot(1, 2, 2)\n",
    "plot_graphs(history, 'loss')"
   ]
  }
 ],
 "metadata": {
  "kernelspec": {
   "display_name": "Python 3",
   "language": "python",
   "name": "python3"
  },
  "language_info": {
   "codemirror_mode": {
    "name": "ipython",
    "version": 3
   },
   "file_extension": ".py",
   "mimetype": "text/x-python",
   "name": "python",
   "nbconvert_exporter": "python",
   "pygments_lexer": "ipython3",
   "version": "3.8.6"
  }
 },
 "nbformat": 4,
 "nbformat_minor": 4
}
