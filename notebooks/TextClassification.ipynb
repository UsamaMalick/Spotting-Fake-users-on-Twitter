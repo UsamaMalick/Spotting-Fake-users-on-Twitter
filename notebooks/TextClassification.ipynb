{
 "cells": [
  {
   "cell_type": "code",
   "execution_count": 9,
   "metadata": {},
   "outputs": [],
   "source": [
    "import numpy as np\n",
    "\n",
    "import tensorflow_datasets as tfds\n",
    "import tensorflow as tf\n",
    "\n",
    "tfds.disable_progress_bar()"
   ]
  },
  {
   "cell_type": "code",
   "execution_count": null,
   "metadata": {},
   "outputs": [],
   "source": [
    "import sys\n",
    "!{sys.executable} -m pip install tensorflow"
   ]
  },
  {
   "cell_type": "code",
   "execution_count": 10,
   "metadata": {},
   "outputs": [],
   "source": [
    "import matplotlib.pyplot as plt\n",
    "\n",
    "\n",
    "def plot_graphs(history, metric):\n",
    "    plt.plot(history.history[metric])\n",
    "    plt.plot(history.history['val_'+metric], '')\n",
    "    plt.xlabel(\"Epochs\")\n",
    "    plt.ylabel(metric)\n",
    "    plt.legend([metric, 'val_'+metric])"
   ]
  },
  {
   "cell_type": "code",
   "execution_count": 11,
   "metadata": {},
   "outputs": [
    {
     "data": {
      "text/plain": [
       "(TensorSpec(shape=(), dtype=tf.string, name=None),\n",
       " TensorSpec(shape=(), dtype=tf.int64, name=None))"
      ]
     },
     "execution_count": 11,
     "metadata": {},
     "output_type": "execute_result"
    }
   ],
   "source": [
    "dataset, info = tfds.load('imdb_reviews', with_info=True,\n",
    "                          as_supervised=True)\n",
    "train_dataset, test_dataset = dataset['train'], dataset['test']\n",
    "\n",
    "train_dataset.element_spec"
   ]
  },
  {
   "cell_type": "code",
   "execution_count": 12,
   "metadata": {},
   "outputs": [
    {
     "name": "stdout",
     "output_type": "stream",
     "text": [
      "text:  b\"This was an absolutely terrible movie. Don't be lured in by Christopher Walken or Michael Ironside. Both are great actors, but this must simply be their worst role in history. Even their great acting could not redeem this movie's ridiculous storyline. This movie is an early nineties US propaganda piece. The most pathetic scenes were those when the Columbian rebels were making their cases for revolutions. Maria Conchita Alonso appeared phony, and her pseudo-love affair with Walken was nothing but a pathetic emotional plug in a movie that was devoid of any real meaning. I am disappointed that there are movies like this, ruining actor's like Christopher Walken's good name. I could barely sit through it.\"\n",
      "label:  0\n"
     ]
    }
   ],
   "source": [
    "for example, label in train_dataset.take(1):\n",
    "    print('text: ', example.numpy())\n",
    "    print('label: ', label.numpy())"
   ]
  },
  {
   "cell_type": "code",
   "execution_count": 13,
   "metadata": {},
   "outputs": [],
   "source": [
    "BUFFER_SIZE = 10000\n",
    "BATCH_SIZE = 64"
   ]
  },
  {
   "cell_type": "code",
   "execution_count": 14,
   "metadata": {},
   "outputs": [],
   "source": [
    "train_dataset = train_dataset.shuffle(BUFFER_SIZE).batch(BATCH_SIZE).prefetch(tf.data.AUTOTUNE)\n",
    "test_dataset = test_dataset.batch(BATCH_SIZE).prefetch(tf.data.AUTOTUNE)"
   ]
  },
  {
   "cell_type": "code",
   "execution_count": 15,
   "metadata": {},
   "outputs": [
    {
     "name": "stdout",
     "output_type": "stream",
     "text": [
      "texts:  [b'This movie is extremely boring, it tells a story of a female gas station owner and her life. Nothing exciting ever happens. The director has really \"kept it real\" and it feels just like a camera following a woman around as she lives her life. I had to watch other films by this director for a class, the others were not as boring. This film was also watched for an assignment...it better be worth the boringness with a good grade!! Overall, unless it\\'s required, don\\'t watch the film. But don\\'t discount other films by this director, because they\\'re not as bad...and don\\'t discount other films about Africa, they\\'re usually good, especially when done by a western director.'\n",
      " b\"Man I must say when I saw the trailer I was excited. Futuristic soldiers, taking on bad ass Vampires led by genre vet Michael Ironside....In Space. I mean I wasn't expecting high art, but It looked like a potential B movie classic. This was no doubt a TV pilot, reedited some time later into a feature film, after it wasn't picked up. Alright I'll start with the films few good points, the action was competent for a lower budgeted film, and the CGI and locations used were passable. Now onto the bad, first off Michael Ironside was barley in this, and his performance here....well it was cheesy not in a good way. But as I said he wasn't in it much anyways, so I can't blame him. One thing that was really stupid, was the PETA type group for Vampires', no I'm not joking, it's the dumbest most unbelievable thing I've seen in along time, and it's taken seriously. Also this film commits one of the major B movie sins, it teases a lesbian scene, and doesn't deliver. Most of all what sinks this film is nothing really happens. Since it was meant to be a pilot the script is almost nonexistent and it doesn't have a regular ending. Even the main villains, only come in towards the end. If ever a movie needed to up the Sleaze and gore factor, it's Vampire Wars. In closing I will say the main crew on the spaceship, were all very capable actors and could very well put this mess behind them, and go on to bigger and better things. They just had nothing to work with here.\"\n",
      " b\"Centered in the downtown and out skirts of Detroit, this comedy I found to be a terrific new comedic duo. 'Noriyuki Pat Morita' is a very funny man, who happens to be a cop from Japan on the trail of an industrial secrets thief, who has stolen a 'proto type' turbo super charger, reluctantly he goes to the United States to follow the thief, after being ordered by his commander. Pat's character collides with 'Jay Leno's' character, a fast talking' but down to business-player type Detroit cop. When they cross paths though, the honorable 'Ways' of Japan meet the all-out old school Detroit police investigative 'Ways'. The two stumble and trip over each other at first, but then develop a 'rythym' that turns into an explosive two layered powerhouse team, that solves the case, cold. After battling a city crime boss for the stolen 'equiptment' and closing the case, these two go from despising each other to being friends and working well together. A little worse for wear and in need of an extended-vacation on top of it all, they manage to come to a victorious closing. I rated this a 9. Lewis's direction makes' this a near perfect comedy. Fun for all ages. I recommend it highly.(***)\"]\n",
      "\n",
      "\n",
      "labels:  [0 0 1]\n"
     ]
    }
   ],
   "source": [
    "for example, label in train_dataset.take(1):\n",
    "    print('texts: ', example.numpy()[:3])\n",
    "    print(\"\\n\")\n",
    "    print('labels: ', label.numpy()[:3])"
   ]
  },
  {
   "cell_type": "code",
   "execution_count": null,
   "metadata": {},
   "outputs": [],
   "source": []
  }
 ],
 "metadata": {
  "kernelspec": {
   "display_name": "Python 3",
   "language": "python",
   "name": "python3"
  },
  "language_info": {
   "codemirror_mode": {
    "name": "ipython",
    "version": 3
   },
   "file_extension": ".py",
   "mimetype": "text/x-python",
   "name": "python",
   "nbconvert_exporter": "python",
   "pygments_lexer": "ipython3",
   "version": "3.8.6"
  }
 },
 "nbformat": 4,
 "nbformat_minor": 4
}
